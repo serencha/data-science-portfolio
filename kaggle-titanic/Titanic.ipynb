{
 "cells": [
  {
   "cell_type": "markdown",
   "id": "06864e84",
   "metadata": {},
   "source": [
    "# Titanic - Machine Learning Disaster\n",
    "#### Serena Chang\n",
    "\n",
    "\n",
    "This dataset is from [Kaggle](https://www.kaggle.com/c/titanic/overview). This notebook is structured in 3 parts: data exploration, data analysis, and data prediction.\n",
    "\n"
   ]
  },
  {
   "cell_type": "markdown",
   "id": "7ea189e1",
   "metadata": {},
   "source": [
    "### Data Exploration\n",
    "\n",
    "The goal here is to check for data cleanliness and trends. I will also explore these questions:\n",
    "1. Who are the passengers on the Titanic? (age, sex, where they are from)\n",
    "2. Where were the passengers staying on the ship? (cabins, decks)\n",
    "3. Which factors correlate with whether or not the passenger died?"
   ]
  },
  {
   "cell_type": "code",
   "execution_count": 42,
   "id": "51917d5e",
   "metadata": {
    "scrolled": true
   },
   "outputs": [],
   "source": [
    "# Import packages and data\n",
    "import pandas as pd\n",
    "import numpy as np\n",
    "from pandasql import sqldf\n",
    "import matplotlib.pyplot as plt\n",
    "import seaborn as sns\n",
    "\n",
    "df = pd.read_csv('test.csv')"
   ]
  },
  {
   "cell_type": "code",
   "execution_count": 43,
   "id": "2fe380a8",
   "metadata": {},
   "outputs": [
    {
     "name": "stdout",
     "output_type": "stream",
     "text": [
      "   PassengerId  Pclass                                          Name     Sex  \\\n",
      "0          892       3                              Kelly, Mr. James    male   \n",
      "1          893       3              Wilkes, Mrs. James (Ellen Needs)  female   \n",
      "2          894       2                     Myles, Mr. Thomas Francis    male   \n",
      "3          895       3                              Wirz, Mr. Albert    male   \n",
      "4          896       3  Hirvonen, Mrs. Alexander (Helga E Lindqvist)  female   \n",
      "\n",
      "    Age  SibSp  Parch   Ticket     Fare Cabin Embarked  \n",
      "0  34.5      0      0   330911   7.8292   NaN        Q  \n",
      "1  47.0      1      0   363272   7.0000   NaN        S  \n",
      "2  62.0      0      0   240276   9.6875   NaN        Q  \n",
      "3  27.0      0      0   315154   8.6625   NaN        S  \n",
      "4  22.0      1      1  3101298  12.2875   NaN        S  \n",
      "<class 'pandas.core.frame.DataFrame'>\n",
      "RangeIndex: 418 entries, 0 to 417\n",
      "Data columns (total 11 columns):\n",
      " #   Column       Non-Null Count  Dtype  \n",
      "---  ------       --------------  -----  \n",
      " 0   PassengerId  418 non-null    int64  \n",
      " 1   Pclass       418 non-null    int64  \n",
      " 2   Name         418 non-null    object \n",
      " 3   Sex          418 non-null    object \n",
      " 4   Age          332 non-null    float64\n",
      " 5   SibSp        418 non-null    int64  \n",
      " 6   Parch        418 non-null    int64  \n",
      " 7   Ticket       418 non-null    object \n",
      " 8   Fare         417 non-null    float64\n",
      " 9   Cabin        91 non-null     object \n",
      " 10  Embarked     418 non-null    object \n",
      "dtypes: float64(2), int64(4), object(5)\n",
      "memory usage: 36.0+ KB\n",
      "None\n"
     ]
    }
   ],
   "source": [
    "print(df.head())\n",
    "print(df.info())"
   ]
  },
  {
   "cell_type": "code",
   "execution_count": 20,
   "id": "1fe1c957",
   "metadata": {},
   "outputs": [
    {
     "name": "stdout",
     "output_type": "stream",
     "text": [
      "       PassengerId      Pclass         Age       SibSp       Parch        Fare\n",
      "count   418.000000  418.000000  332.000000  418.000000  418.000000  417.000000\n",
      "mean   1100.500000    2.265550   30.272590    0.447368    0.392344   35.627188\n",
      "std     120.810458    0.841838   14.181209    0.896760    0.981429   55.907576\n",
      "min     892.000000    1.000000    0.170000    0.000000    0.000000    0.000000\n",
      "25%     996.250000    1.000000   21.000000    0.000000    0.000000    7.895800\n",
      "50%    1100.500000    3.000000   27.000000    0.000000    0.000000   14.454200\n",
      "75%    1204.750000    3.000000   39.000000    1.000000    0.000000   31.500000\n",
      "max    1309.000000    3.000000   76.000000    8.000000    9.000000  512.329200\n"
     ]
    }
   ],
   "source": [
    "print(df.describe())"
   ]
  },
  {
   "cell_type": "markdown",
   "id": "11550e14",
   "metadata": {},
   "source": [
    "#### Adding New Fields\n",
    "1. HasCabin - Boolean for whether or not a passenger has a cabin\n",
    "2. Status - \"Employee\"/\"Guest\" (Assumes passengers who did not pay fares are employees)"
   ]
  },
  {
   "cell_type": "code",
   "execution_count": 82,
   "id": "f69fba55",
   "metadata": {},
   "outputs": [
    {
     "name": "stdout",
     "output_type": "stream",
     "text": [
      "   PassengerId  Pclass                                          Name     Sex  \\\n",
      "0          892       3                              Kelly, Mr. James    male   \n",
      "1          893       3              Wilkes, Mrs. James (Ellen Needs)  female   \n",
      "2          894       2                     Myles, Mr. Thomas Francis    male   \n",
      "3          895       3                              Wirz, Mr. Albert    male   \n",
      "4          896       3  Hirvonen, Mrs. Alexander (Helga E Lindqvist)  female   \n",
      "5          897       3                    Svensson, Mr. Johan Cervin    male   \n",
      "6          898       3                          Connolly, Miss. Kate  female   \n",
      "7          899       2                  Caldwell, Mr. Albert Francis    male   \n",
      "8          900       3     Abrahim, Mrs. Joseph (Sophie Halaut Easu)  female   \n",
      "9          901       3                       Davies, Mr. John Samuel    male   \n",
      "\n",
      "    Age  SibSp  Parch     Ticket     Fare Cabin Embarked status  HasCabin  \n",
      "0  34.5      0      0     330911   7.8292  None        Q  Guest         0  \n",
      "1  47.0      1      0     363272   7.0000  None        S  Guest         0  \n",
      "2  62.0      0      0     240276   9.6875  None        Q  Guest         0  \n",
      "3  27.0      0      0     315154   8.6625  None        S  Guest         0  \n",
      "4  22.0      1      1    3101298  12.2875  None        S  Guest         0  \n",
      "5  14.0      0      0       7538   9.2250  None        S  Guest         0  \n",
      "6  30.0      0      0     330972   7.6292  None        Q  Guest         0  \n",
      "7  26.0      1      1     248738  29.0000  None        S  Guest         0  \n",
      "8  18.0      0      0       2657   7.2292  None        C  Guest         0  \n",
      "9  21.0      2      0  A/4 48871  24.1500  None        S  Guest         0  \n"
     ]
    }
   ],
   "source": [
    "# Make the HasCabin field\n",
    "df['Cabin'].fillna('None', inplace=True)\n",
    "df['HasCabin'] = np.select([df['Cabin'] == 'None', df['Cabin'] != 'None'], [False, True])\n",
    "\n",
    "df['status'] = np.select([(df['Fare'] == 0), (df['Fare'] > 0)], ['Employee', 'Guest'])\n",
    "print(df.head(10))"
   ]
  },
  {
   "cell_type": "markdown",
   "id": "38f517e9",
   "metadata": {},
   "source": [
    "#### Initial Observations\n",
    "\n",
    "All fields have all non-null values except for the Age, Cabin, and Fare fields. \n",
    "The Cabin field may have null values some passengers may not have stayed in a cabin.\n",
    "Fares for some passengers were 0, perhaps because they were employees. We can look at the specific data."
   ]
  },
  {
   "cell_type": "code",
   "execution_count": 28,
   "id": "e5e3f383",
   "metadata": {},
   "outputs": [
    {
     "name": "stdout",
     "output_type": "stream",
     "text": [
      "<bound method NDFrame.head of     PassengerId  Pclass                                               Name  \\\n",
      "0           902       3                                   Ilieff, Mr. Ylio   \n",
      "1           914       1               Flegenheim, Mrs. Alfred (Antoinette)   \n",
      "2           921       3                                  Samaan, Mr. Elias   \n",
      "3           925       3  Johnston, Mrs. Andrew G (Elizabeth Lily\" Watson)\"   \n",
      "4           928       3                                Roth, Miss. Sarah A   \n",
      "..          ...     ...                                                ...   \n",
      "81         1300       3                    Riordan, Miss. Johanna Hannah\"\"   \n",
      "82         1302       3                             Naughton, Miss. Hannah   \n",
      "83         1305       3                                 Spector, Mr. Woolf   \n",
      "84         1308       3                                Ware, Mr. Frederick   \n",
      "85         1309       3                           Peter, Master. Michael J   \n",
      "\n",
      "       Sex   Age  SibSp  Parch      Ticket     Fare Cabin Embarked  \n",
      "0     male  None      0      0      349220   7.8958  None        S  \n",
      "1   female  None      0      0    PC 17598  31.6833  None        S  \n",
      "2     male  None      2      0        2662  21.6792  None        C  \n",
      "3   female  None      1      2  W./C. 6607  23.4500  None        S  \n",
      "4   female  None      0      0      342712   8.0500  None        S  \n",
      "..     ...   ...    ...    ...         ...      ...   ...      ...  \n",
      "81  female  None      0      0      334915   7.7208  None        Q  \n",
      "82  female  None      0      0      365237   7.7500  None        Q  \n",
      "83    male  None      0      0   A.5. 3236   8.0500  None        S  \n",
      "84    male  None      0      0      359309   8.0500  None        S  \n",
      "85    male  None      1      1        2668  22.3583  None        C  \n",
      "\n",
      "[86 rows x 11 columns]>\n"
     ]
    }
   ],
   "source": [
    "pysqldf = lambda q: sqldf(q, globals())\n",
    "\n",
    "age_q = pysqldf(\"select * from df where Age is null\")\n",
    "print(age_q.head)"
   ]
  },
  {
   "cell_type": "code",
   "execution_count": 89,
   "id": "2dd69bd4",
   "metadata": {},
   "outputs": [
    {
     "name": "stdout",
     "output_type": "stream",
     "text": [
      "{}\n"
     ]
    },
    {
     "data": {
      "text/plain": [
       "<seaborn.axisgrid.FacetGrid at 0x7fd16c6cb040>"
      ]
     },
     "execution_count": 89,
     "metadata": {},
     "output_type": "execute_result"
    },
    {
     "data": {
      "image/png": "[encoded data removed]",
      "text/plain": [
       "<Figure size 432x288 with 1 Axes>"
      ]
     },
     "metadata": {
      "needs_background": "light"
     },
     "output_type": "display_data"
    },
    {
     "data": {
      "image/png": "[encoded data removed]",
      "text/plain": [
       "<Figure size 432x288 with 3 Axes>"
      ]
     },
     "metadata": {
      "needs_background": "light"
     },
     "output_type": "display_data"
    }
   ],
   "source": [
    "# Find out how many passengers in each ticket class did not have a cabin\n",
    "\n",
    "cabin_q = pysqldf(\"select pclass from df where Cabin is null\")\n",
    "counts = dict()\n",
    "for i in cabin_q.Pclass:\n",
    "  counts[i] = counts.get(i, 0) + 1\n",
    "\n",
    "print(counts)\n",
    "\n",
    "# See the correlation between Fare and Age across ticket classes\n",
    "\n",
    "sea = sns.FacetGrid(df, col = \"Pclass\",\n",
    "                    height = 4, aspect  =.5)\n",
    "  \n",
    "sea.map(sns.scatterplot, \"Age\", \"Fare\")\n"
   ]
  },
  {
   "cell_type": "markdown",
   "id": "7821b1d9",
   "metadata": {},
   "source": [
    "It looks like there is an outlier in Fare of 512.33. Since this is far from the average fares within the first class tickets, I will replace that value with an average."
   ]
  }
 ],
 "metadata": {
  "kernelspec": {
   "display_name": "Python 3",
   "language": "python",
   "name": "python3"
  },
  "language_info": {
   "codemirror_mode": {
    "name": "ipython",
    "version": 3
   },
   "file_extension": ".py",
   "mimetype": "text/x-python",
   "name": "python",
   "nbconvert_exporter": "python",
   "pygments_lexer": "ipython3",
   "version": "3.8.8"
  }
 },
 "nbformat": 4,
 "nbformat_minor": 5
}
