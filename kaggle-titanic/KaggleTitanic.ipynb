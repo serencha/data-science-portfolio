{
 "cells": [
  {
   "cell_type": "markdown",
   "id": "4f416722",
   "metadata": {},
   "source": [
    "# Kaggle Titanic\n",
    "\n",
    "This notebook contains data cleaning, model building, and model training & optimization. I use Random Trees classifier to predict survivability on the Titanic. After submission, the accuracy on Kaggle was 0.78708 which is in the top 13th percentile of scores as of 12/30/21."
   ]
  },
  {
   "cell_type": "markdown",
   "id": "a186fd21",
   "metadata": {},
   "source": [
    "## Data Cleaning & Feature Engineering"
   ]
  },
  {
   "cell_type": "code",
   "execution_count": 1,
   "id": "a5c60de6",
   "metadata": {},
   "outputs": [
    {
     "name": "stdout",
     "output_type": "stream",
     "text": [
      "   PassengerId  Survived  Pclass  \\\n",
      "0            1         0       3   \n",
      "1            2         1       1   \n",
      "2            3         1       3   \n",
      "3            4         1       1   \n",
      "4            5         0       3   \n",
      "\n",
      "                                                Name     Sex   Age  SibSp  \\\n",
      "0                            Braund, Mr. Owen Harris    male  22.0      1   \n",
      "1  Cumings, Mrs. John Bradley (Florence Briggs Th...  female  38.0      1   \n",
      "2                             Heikkinen, Miss. Laina  female  26.0      0   \n",
      "3       Futrelle, Mrs. Jacques Heath (Lily May Peel)  female  35.0      1   \n",
      "4                           Allen, Mr. William Henry    male  35.0      0   \n",
      "\n",
      "   Parch            Ticket     Fare Cabin Embarked  \n",
      "0      0         A/5 21171   7.2500   NaN        S  \n",
      "1      0          PC 17599  71.2833   C85        C  \n",
      "2      0  STON/O2. 3101282   7.9250   NaN        S  \n",
      "3      0            113803  53.1000  C123        S  \n",
      "4      0            373450   8.0500   NaN        S  \n",
      "PassengerId      0\n",
      "Survived         0\n",
      "Pclass           0\n",
      "Name             0\n",
      "Sex              0\n",
      "Age            177\n",
      "SibSp            0\n",
      "Parch            0\n",
      "Ticket           0\n",
      "Fare             0\n",
      "Cabin          687\n",
      "Embarked         2\n",
      "dtype: int64\n"
     ]
    }
   ],
   "source": [
    "# Import packages\n",
    "import pandas as pd\n",
    "import numpy as np\n",
    "from sklearn.model_selection import train_test_split\n",
    "from sklearn.metrics import balanced_accuracy_score\n",
    "import matplotlib.pyplot as plt\n",
    "from sklearn.ensemble import RandomForestClassifier\n",
    "\n",
    "\n",
    "df = pd.read_csv('train.csv')\n",
    "\n",
    "# Look at feature spread and null values\n",
    "print(df.head())\n",
    "print(df.isnull().sum())"
   ]
  },
  {
   "cell_type": "code",
   "execution_count": 2,
   "id": "3203c938",
   "metadata": {},
   "outputs": [
    {
     "name": "stdout",
     "output_type": "stream",
     "text": [
      "PassengerId    0\n",
      "Survived       0\n",
      "Name           0\n",
      "Sex            0\n",
      "Age            0\n",
      "SibSp          0\n",
      "Parch          0\n",
      "Ticket         0\n",
      "Fare           0\n",
      "Cabin          0\n",
      "Embarked_C     0\n",
      "Embarked_Q     0\n",
      "Embarked_S     0\n",
      "Pclass_1       0\n",
      "Pclass_2       0\n",
      "Pclass_3       0\n",
      "dtype: int64\n"
     ]
    }
   ],
   "source": [
    "def prepare_data(df):\n",
    "    # Categorize passengers by whether or not they have a cabin\n",
    "    df[\"Cabin\"] = df[\"Cabin\"].apply(lambda x: 1 if not pd.isnull(x) else 0)\n",
    "\n",
    "    # Fill missing \"Age\" with means\n",
    "    df[\"Age\"].fillna(df[\"Age\"].mean(), inplace=True)\n",
    "\n",
    "    # Replace Sex column with numerical values\n",
    "    df['Sex']= df['Sex'].replace({\"male\": 0, \"female\": 1})\n",
    "    \n",
    "    # One-hot encode our Embarked and Pclass variables \n",
    "    categorical_features = [\"Embarked\", \"Pclass\"]\n",
    "    df = pd.get_dummies(df, columns=categorical_features)\n",
    "\n",
    "    return df\n",
    " \n",
    "\n",
    "df = prepare_data(df)\n",
    "\n",
    "print(df.isnull().sum())"
   ]
  },
  {
   "cell_type": "markdown",
   "id": "5674c138",
   "metadata": {},
   "source": [
    "## Split into Training and Testing Datasets\n",
    "\n"
   ]
  },
  {
   "cell_type": "code",
   "execution_count": 3,
   "id": "68ba3a14",
   "metadata": {},
   "outputs": [
    {
     "name": "stdout",
     "output_type": "stream",
     "text": [
      "   PassengerId  Survived                                               Name  \\\n",
      "0            1         0                            Braund, Mr. Owen Harris   \n",
      "1            2         1  Cumings, Mrs. John Bradley (Florence Briggs Th...   \n",
      "2            3         1                             Heikkinen, Miss. Laina   \n",
      "3            4         1       Futrelle, Mrs. Jacques Heath (Lily May Peel)   \n",
      "4            5         0                           Allen, Mr. William Henry   \n",
      "\n",
      "   Sex   Age  SibSp  Parch            Ticket     Fare  Cabin  Embarked_C  \\\n",
      "0    0  22.0      1      0         A/5 21171   7.2500      0           0   \n",
      "1    1  38.0      1      0          PC 17599  71.2833      1           1   \n",
      "2    1  26.0      0      0  STON/O2. 3101282   7.9250      0           0   \n",
      "3    1  35.0      1      0            113803  53.1000      1           0   \n",
      "4    0  35.0      0      0            373450   8.0500      0           0   \n",
      "\n",
      "   Embarked_Q  Embarked_S  Pclass_1  Pclass_2  Pclass_3  \n",
      "0           0           1         0         0         1  \n",
      "1           0           0         1         0         0  \n",
      "2           0           1         0         0         1  \n",
      "3           0           1         1         0         0  \n",
      "4           0           1         0         0         1  \n",
      "train shape: (356, 16)\n",
      "test shape: (535, 16)\n"
     ]
    }
   ],
   "source": [
    "# Split the dataset in an 40/60 train/test ratio.\n",
    "# The dataset is relatively small so this will allow us to keep a \n",
    "train, test = train_test_split(df, test_size=0.6, random_state=2, shuffle=True)\n",
    "\n",
    "print(df.head())\n",
    "print(\"train shape:\", train.shape)\n",
    "print(\"test shape:\", test.shape)"
   ]
  },
  {
   "cell_type": "markdown",
   "id": "99fd9be7",
   "metadata": {},
   "source": [
    "## Building Model - Random Forest Classifier"
   ]
  },
  {
   "cell_type": "code",
   "execution_count": 5,
   "id": "75473085",
   "metadata": {},
   "outputs": [
    {
     "name": "stdout",
     "output_type": "stream",
     "text": [
      "['Sex', 'Age', 'SibSp', 'Parch', 'Fare', 'Cabin', 'Embarked_C', 'Embarked_Q', 'Embarked_S', 'Pclass_1', 'Pclass_2', 'Pclass_3']\n",
      "Number of Features: 12\n"
     ]
    }
   ],
   "source": [
    "features = [c for c in df.columns if c not in [\"Survived\", \"Ticket\", \"Name\", \"PassengerId\"]]\n",
    "print(features)\n",
    "\n",
    "print(f\"Number of Features: {len(features)}\")\n",
    "\n",
    "def fit_test_model(model):\n",
    "    '''\n",
    "    Tests a model against train and test sets after training\n",
    "    '''  \n",
    "    global features\n",
    "\n",
    "    # Train the model\n",
    "    model.fit(train[features], train.Survived)\n",
    "\n",
    "    # Assess performance using accuracy scores\n",
    "    # -- Train\n",
    "    predictions = model.predict(train[features])\n",
    "    train_accuracy = balanced_accuracy_score(train.Survived, predictions)\n",
    "\n",
    "    # -- Test\n",
    "    predictions = model.predict(test[features])\n",
    "    test_accuracy = balanced_accuracy_score(test.Survived, predictions)\n",
    "\n",
    "    return train_accuracy, test_accuracy"
   ]
  },
  {
   "cell_type": "markdown",
   "id": "35c84493",
   "metadata": {},
   "source": [
    "### Find the optimal number of trees."
   ]
  },
  {
   "cell_type": "code",
   "execution_count": 6,
   "id": "d43fd864",
   "metadata": {},
   "outputs": [
    {
     "name": "stdout",
     "output_type": "stream",
     "text": [
      "   Number of Trees      Test     Train\n",
      "0             10.0  0.763193  0.963954\n",
      "1             20.0  0.774464  0.964870\n",
      "2             30.0  0.778492  0.983118\n",
      "3             40.0  0.786733  0.983118\n",
      "4             50.0  0.782779  0.983118\n",
      "5             60.0  0.779084  0.986768\n",
      "6             70.0  0.788840  0.986768\n",
      "7             80.0  0.784885  0.986768\n",
      "8             90.0  0.784294  0.986768\n",
      "9            100.0  0.787324  0.986768\n"
     ]
    },
    {
     "data": {
      "image/png": "[encoded data removed]",
      "text/plain": [
       "<Figure size 432x288 with 1 Axes>"
      ]
     },
     "metadata": {
      "needs_background": "light"
     },
     "output_type": "display_data"
    }
   ],
   "source": [
    "n_estimators = [x for x in range(10, 101, 10)]\n",
    "\n",
    "# Train our models and report their performance\n",
    "train_accuracies = []\n",
    "test_accuracies = []\n",
    "\n",
    "for n_estimator in n_estimators:\n",
    "    # Prepare the model \n",
    "    rf = RandomForestClassifier(n_estimators=n_estimator, \n",
    "                                random_state=2, \n",
    "                                verbose=False)\n",
    "    \n",
    "    # Train and test the result\n",
    "    train_accuracy, test_accuracy = fit_test_model(rf)\n",
    "\n",
    "    # Save the results\n",
    "    test_accuracies.append(test_accuracy)\n",
    "    train_accuracies.append(train_accuracy)\n",
    "\n",
    "n_estimator_accuracy = pd.DataFrame(\n",
    "                    np.column_stack([n_estimators, test_accuracies, train_accuracies]), \n",
    "                    columns=['Number of Trees', 'Test', 'Train'])\n",
    "print(n_estimator_accuracy)\n",
    "\n",
    "# Plot results\n",
    "plt.xlabel('Number of Trees')\n",
    "plt.ylabel('Accuracy')\n",
    "plt.title(\"Performance X number of trees\")\n",
    "plt.plot(n_estimators, test_accuracies, color=\"blue\")\n",
    "plt.plot(n_estimators, train_accuracies, color=\"orange\")\n",
    "plt.show()"
   ]
  },
  {
   "cell_type": "markdown",
   "id": "3f81f5e0",
   "metadata": {},
   "source": [
    "Using n_estimators=40 results in the highest test accuracy before overfitting occurs."
   ]
  },
  {
   "cell_type": "markdown",
   "id": "b4c22afc",
   "metadata": {},
   "source": [
    "### Altering the minimum number of samples for split parameter"
   ]
  },
  {
   "cell_type": "code",
   "execution_count": 8,
   "id": "4d7f7e0d",
   "metadata": {},
   "outputs": [
    {
     "name": "stdout",
     "output_type": "stream",
     "text": [
      "    Min Samples Split      Test     Train\n",
      "0                 2.0  0.786733  0.983118\n",
      "1                 3.0  0.781005  0.963954\n",
      "2                 4.0  0.798004  0.958021\n",
      "3                 5.0  0.785735  0.933840\n",
      "4                 6.0  0.789431  0.929274\n",
      "5                 7.0  0.794900  0.919691\n",
      "6                 8.0  0.801293  0.910109\n",
      "7                 9.0  0.792461  0.902810\n",
      "8                10.0  0.804324  0.882278\n",
      "9                20.0  0.778936  0.816568\n",
      "10               50.0  0.787842  0.827517\n"
     ]
    },
    {
     "data": {
      "image/png": "[encoded data removed]",
      "text/plain": [
       "<Figure size 432x288 with 1 Axes>"
      ]
     },
     "metadata": {
      "needs_background": "light"
     },
     "output_type": "display_data"
    }
   ],
   "source": [
    "min_samples_split = [2, 3, 4, 5, 6, 7, 8, 9, 10, 20, 50]\n",
    "\n",
    "# Train our models and report their performance\n",
    "train_accuracies = []\n",
    "test_accuracies = []\n",
    "\n",
    "for min_samples in min_samples_split:\n",
    "    # Prepare the model \n",
    "    rf = RandomForestClassifier(n_estimators=40,\n",
    "                                min_samples_split=min_samples,\n",
    "                                random_state=2, \n",
    "                                verbose=False)\n",
    "    \n",
    "    # Train and test the result\n",
    "    train_accuracy, test_accuracy = fit_test_model(rf)\n",
    "\n",
    "    # Save the results\n",
    "    test_accuracies.append(test_accuracy)\n",
    "    train_accuracies.append(train_accuracy)\n",
    "\n",
    "\n",
    "min_samples_accuracy = pd.DataFrame(\n",
    "                    np.column_stack([min_samples_split, test_accuracies, train_accuracies]), \n",
    "                    columns=['Min Samples Split', 'Test', 'Train'])\n",
    "print(min_samples_accuracy)\n",
    "\n",
    "# Plot results\n",
    "plt.xlabel('Minimum samples split')\n",
    "plt.ylabel('Accuracy')\n",
    "plt.title(\"Performance\")\n",
    "plt.plot(min_samples_split, test_accuracies, color=\"blue\")\n",
    "plt.plot(min_samples_split, train_accuracies, color=\"orange\")\n",
    "plt.show()"
   ]
  },
  {
   "cell_type": "markdown",
   "id": "fec8b7fe",
   "metadata": {},
   "source": [
    "Using  `min_samples_split=10`  gives us the best result for test accuracy, and higher values decrease the accuracy."
   ]
  },
  {
   "cell_type": "markdown",
   "id": "b705a665",
   "metadata": {},
   "source": [
    "### Altering the model depth"
   ]
  },
  {
   "cell_type": "code",
   "execution_count": 9,
   "id": "d130d7ab",
   "metadata": {},
   "outputs": [
    {
     "name": "stdout",
     "output_type": "stream",
     "text": [
      "    Max Depths      Test     Train\n",
      "0          1.0  0.651293  0.672899\n",
      "1          2.0  0.742276  0.749525\n",
      "2          3.0  0.786179  0.810652\n",
      "3          4.0  0.782557  0.827984\n",
      "4          5.0  0.783481  0.831184\n",
      "5          6.0  0.788433  0.872246\n",
      "6          7.0  0.788766  0.904643\n",
      "7          8.0  0.793644  0.934757\n",
      "8          9.0  0.794900  0.953005\n",
      "9         10.0  0.787324  0.961221\n",
      "10        11.0  0.781855  0.968520\n",
      "11        12.0  0.782188  0.969886\n",
      "12        13.0  0.767554  0.979469\n",
      "13        14.0  0.779157  0.983118\n",
      "14        15.0  0.783703  0.983118\n",
      "15        16.0  0.790687  0.983118\n",
      "16        17.0  0.786733  0.983118\n",
      "17        18.0  0.786733  0.983118\n",
      "18        19.0  0.786733  0.983118\n",
      "19        20.0  0.786733  0.983118\n"
     ]
    },
    {
     "data": {
      "image/png": "[encoded data removed]",
      "text/plain": [
       "<Figure size 432x288 with 1 Axes>"
      ]
     },
     "metadata": {
      "needs_background": "light"
     },
     "output_type": "display_data"
    }
   ],
   "source": [
    "max_depths = [x for x in range(1, 21)]\n",
    "\n",
    "# Train our models and report their performance\n",
    "train_accuracies = []\n",
    "test_accuracies = []\n",
    "\n",
    "for max_depth in max_depths:\n",
    "    # Prepare the model \n",
    "    rf = RandomForestClassifier(n_estimators=40,\n",
    "                                max_depth=max_depth,\n",
    "                                random_state=2, \n",
    "                                verbose=False)\n",
    "    \n",
    "    # Train and test the result\n",
    "    train_accuracy, test_accuracy = fit_test_model(rf)\n",
    "\n",
    "    # Save the results\n",
    "    test_accuracies.append(test_accuracy)\n",
    "    train_accuracies.append(train_accuracy)\n",
    "\n",
    "max_depths_accuracy = pd.DataFrame(\n",
    "                    np.column_stack([max_depths, test_accuracies, train_accuracies]), \n",
    "                    columns=['Max Depths', 'Test', 'Train'])\n",
    "print(max_depths_accuracy)\n",
    "\n",
    "# Plot results\n",
    "plt.xlabel('Max Depths')\n",
    "plt.ylabel('Accuracy')\n",
    "plt.title(\"Performance\")\n",
    "plt.plot(max_depths, test_accuracies, color=\"blue\")\n",
    "plt.plot(max_depths, train_accuracies, color=\"orange\")\n",
    "plt.show()"
   ]
  },
  {
   "cell_type": "markdown",
   "metadata": {},
   "source": [
    "The plot and max depths table shows that the model benefits from a higher max depth up to 9. Increasing depth after 9 harm test performance, because it limits the model too much for it to generalize."
   ]
  },
  {
   "cell_type": "markdown",
   "id": "992dd528",
   "metadata": {},
   "source": [
    "### Find the optimal number of features to use."
   ]
  },
  {
   "cell_type": "code",
   "execution_count": 11,
   "id": "2430f91b",
   "metadata": {},
   "outputs": [
    {
     "name": "stdout",
     "output_type": "stream",
     "text": [
      "[1, 2, 3, 4, 5, 6, 7, 8, 9, 10, 11, 12]\n",
      "    Number of Features      Test     Train\n",
      "0                  1.0  0.787435  0.918853\n",
      "1                  2.0  0.787446  0.920797\n",
      "2                  3.0  0.787137  0.923635\n",
      "3                  4.0  0.785043  0.929622\n",
      "4                  5.0  0.787520  0.929103\n",
      "5                  6.0  0.784333  0.932661\n",
      "6                  7.0  0.784703  0.934067\n",
      "7                  8.0  0.782684  0.937800\n",
      "8                  9.0  0.781340  0.938247\n",
      "9                 10.0  0.781657  0.941496\n",
      "10                11.0  0.779905  0.941141\n",
      "11                12.0  0.778304  0.942665\n"
     ]
    },
    {
     "data": {
      "image/png": "[encoded data removed]",
      "text/plain": [
       "<Figure size 432x288 with 1 Axes>"
      ]
     },
     "metadata": {
      "needs_background": "light"
     },
     "output_type": "display_data"
    }
   ],
   "source": [
    "# There are 13 features so we want to find the optimal\n",
    "# number to use.\n",
    "n_features = [x for x in range(1, 13)]\n",
    "print(n_features)\n",
    "\n",
    "# Train our models and report their performance\n",
    "all_train_accuracies = list()\n",
    "all_test_accuracies = list()\n",
    "\n",
    "# Use different values for random_state to find\n",
    "# average accuracies\n",
    "for random_n in list(range(50)):\n",
    "    test_accuracies = []\n",
    "    train_accuracies = []\n",
    "\n",
    "    for n_feature in n_features:\n",
    "        # Prepare the model \n",
    "        rf = RandomForestClassifier(n_estimators=20,\n",
    "                                max_depth=16,\n",
    "                                max_features=n_feature,\n",
    "                                min_samples_split=5,\n",
    "                                random_state=random_n, \n",
    "                                verbose=False)\n",
    "        \n",
    "        # Train and test the result\n",
    "        train_accuracy, test_accuracy = fit_test_model(rf)\n",
    "\n",
    "        # Save the results\n",
    "        test_accuracies.append(test_accuracy)\n",
    "        train_accuracies.append(train_accuracy)\n",
    "\n",
    "    all_test_accuracies.append(test_accuracies)\n",
    "    all_train_accuracies.append(train_accuracies)\n",
    "\n",
    "test_array = np.array(all_test_accuracies)\n",
    "avg_test_accuracies = np.average(test_array, axis=0)\n",
    "\n",
    "train_array = np.array(all_train_accuracies)\n",
    "avg_train_accuracies = np.average(train_array, axis=0)\n",
    "\n",
    "\n",
    "# Present accuracy results\n",
    "n_features_accuracy = pd.DataFrame(\n",
    "                    np.column_stack([n_features, avg_test_accuracies, avg_train_accuracies]), \n",
    "                    columns=['Number of Features', 'Test', 'Train'])\n",
    "print(n_features_accuracy)\n",
    "\n",
    "# Plot results\n",
    "plt.xlabel('Number of Trees')\n",
    "plt.ylabel('Accuracy')\n",
    "plt.title(\"Performance X Number of Features\")\n",
    "plt.plot(n_features, avg_test_accuracies, color=\"blue\")\n",
    "plt.plot(n_features, avg_train_accuracies, color=\"orange\")\n",
    "plt.show()"
   ]
  },
  {
   "cell_type": "markdown",
   "id": "e244b6a0",
   "metadata": {},
   "source": [
    "Attempting to find the optimal number of max features is difficult because accuracies change with different random states. However, taking an average of accuracies from different random states can help us. In this case, the optimal number of max features is 5."
   ]
  },
  {
   "cell_type": "markdown",
   "id": "30469b73",
   "metadata": {},
   "source": [
    "### Find the optimal test size"
   ]
  },
  {
   "cell_type": "code",
   "execution_count": 17,
   "id": "e656d832",
   "metadata": {},
   "outputs": [
    {
     "name": "stdout",
     "output_type": "stream",
     "text": [
      "    size  accuracy\n",
      "0   0.20  0.761456\n",
      "1   0.22  0.751467\n",
      "2   0.24  0.760989\n",
      "3   0.26  0.780907\n",
      "4   0.28  0.763061\n",
      "5   0.30  0.763426\n",
      "6   0.32  0.749189\n",
      "7   0.34  0.770257\n",
      "8   0.36  0.783744\n",
      "9   0.38  0.771033\n",
      "10  0.40  0.763804\n",
      "11  0.42  0.792677\n",
      "12  0.44  0.770136\n",
      "13  0.46  0.789867\n",
      "14  0.48  0.794911\n",
      "15  0.50  0.789184\n",
      "16  0.52  0.803951\n",
      "17  0.54  0.788009\n",
      "18  0.56  0.778863\n",
      "19  0.58  0.786909\n",
      "20  0.60  0.784553\n",
      "21  0.62  0.768354\n",
      "22  0.64  0.776048\n",
      "23  0.66  0.779815\n",
      "24  0.68  0.760580\n",
      "25  0.70  0.769792\n",
      "26  0.72  0.768698\n",
      "27  0.74  0.775091\n",
      "28  0.76  0.775791\n",
      "29  0.78  0.784103\n",
      "30  0.80  0.795671\n"
     ]
    }
   ],
   "source": [
    "test_accuracies = []\n",
    "test_sizes = list(np.arange(0.2, 0.8, 0.02))\n",
    "\n",
    "for size in test_sizes:\n",
    "        train, test = train_test_split(df, test_size=size, random_state=2, shuffle=True)\n",
    "\n",
    "        # Prepare the model \n",
    "        rf = RandomForestClassifier(n_estimators=40,\n",
    "                                max_depth=9,\n",
    "                                max_features=5,\n",
    "                                min_samples_split=10,\n",
    "                                random_state=1, \n",
    "                                verbose=False)\n",
    "\n",
    "        # Train and test the result\n",
    "        train_accuracy, test_accuracy = fit_test_model(rf)\n",
    "        \n",
    "        test_accuracies.append(test_accuracy)\n",
    "\n",
    "test_size_accuracy = pd.DataFrame({\"size\": test_sizes, \"accuracy\": test_accuracies})\n",
    "print(test_size_accuracy)\n"
   ]
  },
  {
   "cell_type": "markdown",
   "id": "b7814686",
   "metadata": {},
   "source": [
    "The test accuracy is the highest when the test size is 0.52."
   ]
  },
  {
   "cell_type": "markdown",
   "id": "322475a1",
   "metadata": {},
   "source": [
    "## Optimizing the Model"
   ]
  },
  {
   "cell_type": "code",
   "execution_count": 18,
   "id": "26244a2a",
   "metadata": {},
   "outputs": [
    {
     "name": "stdout",
     "output_type": "stream",
     "text": [
      "                 Model  Train sensitivity  Test sensitivity\n",
      "0  Final random forest           0.897519          0.803951\n"
     ]
    }
   ],
   "source": [
    "train, test = train_test_split(df, test_size=0.52, random_state=2, shuffle=True)\n",
    "\n",
    "# Prepare the model with the optimal n_estimators, max_depth,\n",
    "# max_features, and min_samples_split.\n",
    "rf = RandomForestClassifier(n_estimators=40,\n",
    "                        max_depth=9,\n",
    "                        max_features=5,\n",
    "                        min_samples_split=10,\n",
    "                        random_state=1, \n",
    "                        verbose=False)\n",
    "\n",
    "# Train and test the result\n",
    "train_accuracy, test_accuracy = fit_test_model(rf)\n",
    "\n",
    "# Print the results\n",
    "data = {\"Model\": [\"Final random forest\"],\n",
    "        \"Train sensitivity\": [train_accuracy],\n",
    "        \"Test sensitivity\": [test_accuracy]\n",
    "        }\n",
    "\n",
    "results = pd.DataFrame(data, columns = [\"Model\", \"Train sensitivity\", \"Test sensitivity\"])\n",
    "print(results)"
   ]
  },
  {
   "cell_type": "markdown",
   "id": "52d399a3",
   "metadata": {},
   "source": [
    "## Tuning Hyperparameters\n"
   ]
  },
  {
   "cell_type": "markdown",
   "id": "0670c8a3",
   "metadata": {},
   "source": [
    "### Determining criteria to split on"
   ]
  },
  {
   "cell_type": "code",
   "execution_count": 29,
   "id": "820e4da2",
   "metadata": {},
   "outputs": [
    {
     "name": "stdout",
     "output_type": "stream",
     "text": [
      "Results for Gini:\n",
      "0.8606507490636703 0.7855194450939131\n",
      "Results for Entropy:\n",
      "0.8550210674157304 0.794735406437534\n"
     ]
    }
   ],
   "source": [
    "# Prepare the model\n",
    "# The default classifier is gini\n",
    "rf = RandomForestClassifier(n_estimators=40,\n",
    "                            max_depth=9,\n",
    "                            max_features=5,\n",
    "                            min_samples_split=10,\n",
    "                            criterion=\"gini\", \n",
    "                            verbose=False)\n",
    "# Train and test the result\n",
    "train_accuracy, test_accuracy = fit_test_model(rf)\n",
    "# Train and test the result\n",
    "print(\"Results for Gini:\")\n",
    "print(train_accuracy, test_accuracy)\n",
    "\n",
    "# Prepare the model \n",
    "rf = RandomForestClassifier(n_estimators=40,\n",
    "                            max_depth=9,\n",
    "                            max_features=5,\n",
    "                            min_samples_split=10,\n",
    "                            criterion=\"entropy\", \n",
    "                            verbose=False)\n",
    "# Train and test result\n",
    "train_accuracy, test_accuracy = fit_test_model(rf)\n",
    "# Train and test result\n",
    "print(\"Results for Entropy:\")\n",
    "print(train_accuracy, test_accuracy)\n"
   ]
  },
  {
   "cell_type": "markdown",
   "id": "1649c6c9",
   "metadata": {},
   "source": [
    "The test accuracies alternate with different random_states. There is no clear \"better criterion\" here."
   ]
  },
  {
   "cell_type": "markdown",
   "id": "497cfe1b",
   "metadata": {},
   "source": [
    "### Determining minimum impurity decrease"
   ]
  },
  {
   "cell_type": "code",
   "execution_count": 30,
   "id": "14fbb04e",
   "metadata": {},
   "outputs": [
    {
     "name": "stdout",
     "output_type": "stream",
     "text": [
      "    Minimum Impurity Decrease      Test     Train\n",
      "40                   0.000202  0.800055  0.870646\n"
     ]
    },
    {
     "data": {
      "image/png": "[encoded data removed]",
      "text/plain": [
       "<Figure size 432x288 with 1 Axes>"
      ]
     },
     "metadata": {
      "needs_background": "light"
     },
     "output_type": "display_data"
    }
   ],
   "source": [
    "min_impurity_decreases = np.linspace(0, 0.0005, num=100)\n",
    "\n",
    "# Train our models and report their performance\n",
    "train_accuracies = []\n",
    "test_accuracies = []\n",
    "\n",
    "for min_impurity_decrease in min_impurity_decreases:\n",
    "\n",
    "    # Prepare the model \n",
    "    rf = RandomForestClassifier(n_estimators=40,\n",
    "                                max_depth=9,\n",
    "                                max_features=5,\n",
    "                                min_samples_split=10,\n",
    "                                criterion=\"gini\", \n",
    "                                min_impurity_decrease=min_impurity_decrease,\n",
    "                                random_state=2,\n",
    "                                verbose=False)\n",
    "    \n",
    "    # Train and test the result\n",
    "    train_accuracy, test_accuracy = fit_test_model(rf)\n",
    "\n",
    "    # Save the results\n",
    "    test_accuracies.append(test_accuracy)\n",
    "    train_accuracies.append(train_accuracy)\n",
    "\n",
    "table = pd.DataFrame(np.column_stack([min_impurity_decreases, test_accuracies, train_accuracies]), \n",
    "                    columns=['Minimum Impurity Decrease', 'Test', 'Train'])\n",
    "print(table.loc[table['Test'] == max(test_accuracies)])\n",
    "\n",
    "# Plot results\n",
    "plt.xlabel('inimum impurity decreases (min_impurity_decrease)')\n",
    "plt.ylabel('Accuracy')\n",
    "plt.title(\"Performance\")\n",
    "plt.plot(min_impurity_decreases, test_accuracies, color=\"blue\")\n",
    "plt.plot(min_impurity_decreases, train_accuracies, color=\"orange\")\n",
    "plt.show()\n"
   ]
  },
  {
   "cell_type": "markdown",
   "id": "c8edb7a5",
   "metadata": {},
   "source": [
    "The optimal minimum impurity decrease is 0.000202 because the test accuracy is the highest here."
   ]
  },
  {
   "cell_type": "markdown",
   "id": "ad8131cf",
   "metadata": {},
   "source": [
    "### Finalizing the model"
   ]
  },
  {
   "cell_type": "code",
   "execution_count": 31,
   "id": "d41338ac",
   "metadata": {},
   "outputs": [
    {
     "name": "stdout",
     "output_type": "stream",
     "text": [
      "0.8706460674157304 0.8000545553737043\n"
     ]
    }
   ],
   "source": [
    "# Prepare the model \n",
    "rf = RandomForestClassifier(n_estimators=40,\n",
    "                            max_depth=9,\n",
    "                            max_features=5,\n",
    "                            min_samples_split=10,\n",
    "                            criterion=\"gini\", \n",
    "                            min_impurity_decrease=0.000202,\n",
    "                            random_state=2,\n",
    "                            verbose=False)\n",
    "\n",
    "\n",
    "train_accuracy, test_accuracy = fit_test_model(rf)\n",
    "\n",
    "# Train and test result\n",
    "print(train_accuracy, test_accuracy)\n"
   ]
  },
  {
   "cell_type": "markdown",
   "id": "1a0f7abd",
   "metadata": {},
   "source": [
    "## Predicting Survival Values"
   ]
  },
  {
   "cell_type": "code",
   "execution_count": 44,
   "id": "a15fe2c6",
   "metadata": {},
   "outputs": [],
   "source": [
    "f = prepare_data(pd.read_csv('test.csv'))\n",
    "\n",
    "# Fill null values\n",
    "f[\"Fare\"].fillna(f[\"Fare\"].mean(), inplace=True)\n",
    "\n",
    "# Only use target features\n",
    "x_pred = f.loc[:, ~f.columns.isin(['Name', 'Ticket', 'PassengerId'])]\n",
    "\n",
    "# Export Kaggle Competition Submission\n",
    "df = pd.read_csv('test.csv')\n",
    "df['Survived'] = rf.predict(x_pred)\n",
    "final = df.loc[:, df.columns.isin(['PassengerId', 'Survived'])]\n",
    "\n",
    "final.to_csv('submission.csv', index=False)"
   ]
  }
 ],
 "metadata": {
  "kernelspec": {
   "display_name": "Python 3 (ipykernel)",
   "language": "python",
   "name": "python3"
  },
  "language_info": {
   "codemirror_mode": {
    "name": "ipython",
    "version": 3
   },
   "file_extension": ".py",
   "mimetype": "text/x-python",
   "name": "python",
   "nbconvert_exporter": "python",
   "pygments_lexer": "ipython3",
   "version": "3.10.1"
  }
 },
 "nbformat": 4,
 "nbformat_minor": 5
}
